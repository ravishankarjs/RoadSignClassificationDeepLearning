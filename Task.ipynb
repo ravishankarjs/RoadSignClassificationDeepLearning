{
  "nbformat": 4,
  "nbformat_minor": 0,
  "metadata": {
    "colab": {
      "provenance": [],
      "collapsed_sections": [
        "twFQbltnm8da",
        "cfTL_5kPsl4j"
      ],
      "toc_visible": true,
      "machine_shape": "hm"
    },
    "kernelspec": {
      "name": "python3",
      "display_name": "Python 3"
    }
  },
  "cells": [
    {
      "cell_type": "markdown",
      "metadata": {
        "id": "wjif_5FsdOFz"
      },
      "source": [
        "# SIT744 Assignment 2: Deep Learning Project\n",
        "\n",
        "<div class=\"alert-info\">\n",
        "    <p>Due: <strong>8:00pm 16 September 2024</strong>  (Monday)</p>\n",
        "\n",
        "This is an <strong>individual</strong> assignment. It contributes <strong>40%</strong> to your final mark. Read the assignment instructions carefully.\n",
        "\n",
        "<h2> What to submit </h2>\n",
        "\n",
        "<p>\n",
        "This assignment is to be completed individually and submitted to CloudDeakin. <strong>By the due date, you are required to submit the following files to the corresponding Assignment (Dropbox) in CloudDeakin</strong>:\n",
        "\n",
        "<ol>\n",
        "<li>\t<strong>[YourID]_SIT744_assignment2_solution.ipynb</strong>:  This is your Python notebook solution source file. </li>\n",
        "<li> <strong>[YourID]_SIT744_assingment2_output.pdf</strong>: This is the output of your Python notebook solution <emph>exported</emph> in PDF format.</li>\n",
        "<li>\t<strong>[YourID]_SIT744_assingment2_extras.zip</strong>:Extra files needed to complete your assignment, if any (e.g., images used in your answers).</li>\n",
        "</ol>\n",
        "</p>\n",
        "\n",
        "<p>\n",
        "For example, if your student ID is: 123456, you will then need to submit the following files:\n",
        "<ul>\n",
        "<li> 123456_SIT744_assignment2_solution.ipynb </li>\n",
        "<li> 123456_SIT744_assignment2_output.pdf</li>\n",
        "<li> 123456_SIT744_assignment2_extras.zip</li>\n",
        "</ul>\n",
        "</p>\n",
        "\n",
        "<h2> Warning </h2>\n",
        "\n",
        "Some components of this assignment may involve heavy computation that runs for a long duration. Please start early to avoid missing the assignment due date.\n",
        "\n",
        "<h2> Marking criteria </h2>\n",
        "\n",
        "<p>\n",
        "Your submission will be assessed based on the overall impact of your effort. A useful model (or application) should be your focus. But as in Assignment 1, we will also consider the following criteria at the same time.\n",
        "\n",
        "<ul>\n",
        "<li> Showing good effort through completed tasks.</li>\n",
        "<li> Applying deep learning theory to design suitable deep learning solutions for the tasks.</li>\n",
        "<li> Critically evaluating and reflecting on the pros and cons of various design decisions.</li>\n",
        "<li> Demonstrating creativity and resourcefulness in providing unique individual solutions.</li>\n",
        "<li> Showing attention to detail through a good quality assignment report.</li>\n",
        "</ul>\n",
        "</p>\n",
        "\n",
        "\n",
        "</div>"
      ]
    },
    {
      "cell_type": "markdown",
      "source": [
        "<h2> Late Submissions: </h2>\n",
        "\n",
        "**Late submissions will be subject to a marking penalty of 5% per day, and will not be marked at all if submitted after 5 days. Eg: if you submit n days late (n<5), your final score will be = unpenalised score -5n, where the maximum possible unpenalised score is 100.**"
      ],
      "metadata": {
        "id": "tsDdxPzpH-Sq"
      }
    },
    {
      "cell_type": "markdown",
      "metadata": {
        "id": "twFQbltnm8da"
      },
      "source": [
        "## Assignment Objective\n",
        "\n",
        "This assignment is an opportunity for you to exhibit your learnings in deep learning theory and its apply it to real world problems.  It builds on Assignment 1 but requires a higher level of mastery of deep learning theory and programming/engineering skills. In particular, you will practice making design decisions yourself. You are also likely to encounter practical issues that will help you consolidate textbook learning."
      ]
    },
    {
      "cell_type": "markdown",
      "metadata": {
        "id": "3ITc1hw_o7qV"
      },
      "source": [
        "## **Task 1 (P Task) Road Sign Classification using Deep Learning**\n",
        "\n",
        "In Assignment 1, you tackled a classification problem. There, you used a Densely Connected Neural Network. In Assignment 2, you will apply the best practices of deep-learning computer vision to identify traffic signs in Australia. The intended use is in an autonomous car of the future that is capable of safely driving on Australian roads and streets.\n",
        "\n",
        "**Background** Autonomous vehicles have come a long way in the last decade, and promises to be part of our daily lives in the very near future. One of the key challenges, however, is to ensure that these vehicles are capable of identifying road signs. In this project, you will train a deep learning model to robustly identify as many road signs as possible. A few examples of road signs used in Victoria can be found [here](https://www.vicroads.vic.gov.au/safety-and-road-rules/road-rules/a-to-z-of-road-rules/road-signs).\n",
        "\n",
        "As seen from the link, the number of road signs is quite large, and it may be challenging to correctly identify all of these signs with a good degree of accuracy. You may thus choose to instead, simplify the task by solving a carefully chosen sub-problem (eg: limiting your model to identify only critical signs  - stop signs, speed limits and school zone signs, or say, focusing on more broadly classifying regulatory vs warning vs freeway signs etc.,).\n",
        "\n",
        "### Task 1.1 Define a problem\n",
        "\n",
        "Select and discuss the image classification problem that you are aiming to solve (your selected problem should have a **minimum of 3 classes**). You may need to consider various factors, such as data availability, usefulness of the final solution, computational budget available to you etc.,\n",
        "\n",
        "Before you set out to solve the problem, what theoretical and practical challenges do you anticipate?\n",
        "\n",
        "Describe the desired inputs and outputs, including the target classes.\n",
        "\n",
        "### Task 1.2 Make a plan\n",
        "\n",
        "What dataset can you use to develop a deep learning solution? Do you need to create your own dataset?\n",
        "\n",
        "How many images do you need? How many for training? How many for testing?\n",
        "\n",
        "Do you need to label the images yourself?\n",
        "\n",
        "How do you determine if your model is good enough?\n",
        "\n",
        "### Task 1.3 Implement a solution\n",
        "\n",
        "Collect relevant data (or use a dataset, if available).\n",
        "Develop a deep learning model.\n",
        "Report the model performance against the success criteria that you define.\n",
        "\n",
        "\n",
        "\n",
        "\n",
        "\n",
        "\n",
        "\n",
        "\n",
        "\n",
        "\n"
      ]
    },
    {
      "cell_type": "markdown",
      "metadata": {
        "id": "zdHwmgwOpEfx"
      },
      "source": [
        "## **Task 2 (C Task) Analyse and improve the model**\n",
        "\n",
        "### Task 2.1 Build an input pipeline for data augmentation\n",
        "\n",
        "\n",
        "Build a data preprocessing pipeline to perform data augmentation. (You may use Keras ImageDataGenerator or write your own transformations.)\n",
        "\n",
        "- Report the model performance with the pipeline added. How much performance gain have you achieved?    \n",
        "\n",
        "- Profile your input pipeline to identify the most time-consuming operation. What actions have you taken to address that slow operation? (*Hint: You may use a profiler such as the [TensorFlow Profiler](https://github.com/tensorflow/profiler).*)\n",
        "\n",
        "\n",
        "### Task 2.2 Compare the performance under equal training time\n",
        "\n",
        "You may notice that with your pipeline, the model performance improves, but at the cost of a longer training time per epoch. Is the additional training time well spent? Compare the dynamic of model performance (e.g., classification accuracy on the test data) with and without data augmentation, when equal training time is spent in the two scenarios.\n",
        "\n",
        "### Task 2.3 Identifying model strengths and weaknesses\n",
        "\n",
        "Identify images that are incorrectly classified by your model. Do they share something in common? How do you plan to improve the model's performance on those images?"
      ]
    },
    {
      "cell_type": "markdown",
      "metadata": {
        "id": "cfTL_5kPsl4j"
      },
      "source": [
        "## **Task 3 (D Task) Improve model generalisability across domains**\n",
        "\n",
        "So far, you have used training and test images from the same source (via random data split). Now collect new test images from a different source. For example, you may take some photos yourself if you used downloaded images before.\n",
        "Otherwise, you may take new photos using a different mobile phone or against a different background.\n",
        "\n",
        "Show sample images from the original test data and the newly collected test data. In what ways are they different?\n",
        "\n",
        "Feed the new test data into your model. Report the performance change.\n",
        "\n",
        "Improve your model so that it generalises better on unseen test images.\n",
        "\n",
        "You need to include sufficient analysis to demonstrate that:\n",
        "\n",
        "- You have obtained a deeper understanding of challenges in model generalisation, through designing experiments and analysing the results.\n",
        "- You have empirically evaluated different measures to address such challenges and can apply classroom learning to explain why each measure may or may not work.\n"
      ]
    },
    {
      "cell_type": "markdown",
      "source": [
        "## **Task 4 (HD Task) Improving the Generalisation of the Model**\n",
        "\n",
        "In this research task, you will explore a way to improve the generalisation capability of your model.\n",
        "\n",
        "### Task 4.1 Study [Penalizing Gradient Norm for Efficiently Improving Generalization in Deep Learning](https://proceedings.mlr.press/v162/zhao22i.html).\n",
        "\n",
        "1. What problem does the paper address? How is it related to what you have learnt in the unit so far?\n",
        "2. What approach did they take? What prior results lead to this approach?\n",
        "3. How do the authors validate their proposed method or hypothesis?\n",
        "4. Are the reported experimental results fully consistent with the paper's claims? Why/Why not?\n",
        "\n",
        "### Task 4.2 Empirical validation of the results\n",
        "\n",
        "1. Reproduce experiments described in the paper. Compare the results you obtained with the ones in the paper. Do you notice any discrepancies? Comment.\n",
        "\n",
        "2. Apply the concept learned in this paper to improve the generalisation of your road sign classifier. For this, you may need to identify a dataset to which your originally trained model does not generalise well. You may create this data by modifying your original data in specific ways, or by collecting new data. Compare the performance of your model before and after implementing the concept in paper in Task 4.1. Is there an improvement in performance? Why/why not?\n",
        "\n",
        "3. What connections do you discover between the paper and what you have learnt in the unit?\n",
        "\n",
        "**(For HD task only) In addition to short answers to the above questions, submit a short (less than 5 minutes) video presentation for your analysis and main conclusions. (The video content should cover only the HD task.) **"
      ],
      "metadata": {
        "id": "TcMnso0Ptoyx"
      }
    },
    {
      "cell_type": "markdown",
      "metadata": {
        "id": "hUV0wuZ01DNA"
      },
      "source": [
        "---\n",
        "**END OF ASSIGNMENT TWO**"
      ]
    }
  ]
}